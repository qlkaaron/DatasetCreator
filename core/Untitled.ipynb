{
 "cells": [
  {
   "cell_type": "markdown",
   "id": "2ee6b4cf",
   "metadata": {},
   "source": [
    "#  😁😁Welcome to use Trash Dataset Production System,(●'◡'●) please follow the steps below to create your dataset"
   ]
  },
  {
   "cell_type": "markdown",
   "id": "988591ff",
   "metadata": {},
   "source": [
    "## Only a few steps, you can get your own dataset"
   ]
  },
  {
   "cell_type": "markdown",
   "id": "ab3666e3",
   "metadata": {},
   "source": [
    "## 💪Step 1 (skipped it if you are not the first time to use this on your computer)"
   ]
  },
  {
   "cell_type": "markdown",
   "id": "f6ee35f8",
   "metadata": {},
   "source": [
    "### Now please run the code below to install the all the things that needed to use in this system. This is just needed when you use this system for the first time on your computer."
   ]
  },
  {
   "cell_type": "code",
   "execution_count": null,
   "id": "d3bd178a",
   "metadata": {},
   "outputs": [],
   "source": [
    "%cd datasetcreator\n",
    "%pip install -qr requirements.txt \n",
    "%pip install torch===1.7.0 torchvision===0.8.1 torchaudio===0.7.0 -f https://download.pytorch.org/whl/torch_stable.html"
   ]
  },
  {
   "cell_type": "markdown",
   "id": "ef43edea",
   "metadata": {},
   "source": [
    "## 💪Step 2 "
   ]
  },
  {
   "cell_type": "markdown",
   "id": "c2988e04",
   "metadata": {},
   "source": [
    "###  Now let's cover the private information in your files(faces and license plates). Please replace the ⭐⭐⭐⭐ with the path where your original file is located.(For example: C:/images) And then run the codes below. This will take some time. Be patient, you don't need to do anything, just leave the notebook open and go for a break.😊"
   ]
  },
  {
   "cell_type": "code",
   "execution_count": null,
   "id": "7121675b",
   "metadata": {},
   "outputs": [],
   "source": [
    "import os\n",
    "import shutil\n",
    "\n",
    "source_path = os.path.abspath('⭐⭐⭐⭐')\n",
    "\n",
    "target_path = os.path.abspath('detect')\n",
    "if not os.path.exists(target_path):\n",
    "    os.makedirs(target_path)\n",
    "if os.path.exists(source_path):\n",
    "    shutil.rmtree(target_path)\n",
    "shutil.copytree(source_path, target_path)\n",
    "print('copy dir finished!')\n",
    "import torch\n",
    "import utils\n",
    "!python detect.py --source ./123.jpg --weights runs/train/exp20/weights/best.pt\n",
    "!python detect.py --source ./output --weights runs/train/exp22/weights/best.pt --project result/"
   ]
  },
  {
   "cell_type": "markdown",
   "id": "92549a4f",
   "metadata": {},
   "source": [
    "### All processed files are stored in the result folder now. Run the codes below to open the folder"
   ]
  },
  {
   "cell_type": "code",
   "execution_count": null,
   "id": "b19bbdd4",
   "metadata": {},
   "outputs": [],
   "source": [
    "import os\n",
    "import shutil\n",
    "if __name__ == \"__main__\":\n",
    "    os.startfile(os.path.abspath('output'))"
   ]
  },
  {
   "cell_type": "markdown",
   "id": "4ee94816",
   "metadata": {},
   "source": [
    "### Congratulations!👏 Now that all the private information in the file are obscured as well, you can start annotating them"
   ]
  },
  {
   "cell_type": "markdown",
   "id": "eb2a05f1",
   "metadata": {},
   "source": [
    "## 💪Step 3(Choose the one you like from two tools)"
   ]
  },
  {
   "cell_type": "markdown",
   "id": "4ecaadf5",
   "metadata": {},
   "source": [
    "### Now let us annotate our file. There are two tools you can choose. \n"
   ]
  },
  {
   "cell_type": "markdown",
   "id": "6b7cee07",
   "metadata": {},
   "source": [
    "### 🚩Choice 1:      The first is Roboflow. It's an online annotation tool, you don't need to install or download anything, just run the codes below and click the link it shows. Upload the files you want to annotate and when finishing, you can export them as the dataset format you want and download it or save in its website.\n"
   ]
  },
  {
   "cell_type": "code",
   "execution_count": null,
   "id": "f7670312",
   "metadata": {
    "scrolled": false
   },
   "outputs": [],
   "source": [
    "%pip install roboflow\n",
    "from roboflow import Roboflow\n",
    "rf = Roboflow(notebook=\"ultralytics\")"
   ]
  },
  {
   "cell_type": "markdown",
   "id": "2db54969",
   "metadata": {},
   "source": [
    "### 🚩Choice 2: The second is VoTT. It's an native applications. You can annotate your local file in your computer and export them as the dataset format you want. Run the codes below If you are the first time to use this system on your computer. An install application will run. Wait for a second. You don't need to do anything, it will do the installation automatically. If you are not the first time to use this notebook on your computer, you can skip this "
   ]
  },
  {
   "cell_type": "code",
   "execution_count": null,
   "id": "ff005345",
   "metadata": {},
   "outputs": [],
   "source": [
    "import os\n",
    "import shutil\n",
    "if __name__ == \"__main__\":\n",
    "    os.startfile(os.path.abspath('vott.exe'))\n"
   ]
  },
  {
   "cell_type": "markdown",
   "id": "64f25752",
   "metadata": {},
   "source": [
    "### Run this codes to open the VoTT. Replace ⭐⭐⭐⭐ with your user name of computer."
   ]
  },
  {
   "cell_type": "code",
   "execution_count": null,
   "id": "ce115df5",
   "metadata": {},
   "outputs": [],
   "source": [
    "if __name__ == \"__main__\":\n",
    "    os.startfile(\"C:\\\\Users\\\\⭐⭐⭐⭐\\\\AppData\\\\Local\\\\Programs\\\\vott\\\\vott.exe\")"
   ]
  },
  {
   "cell_type": "markdown",
   "id": "24e041e4",
   "metadata": {},
   "source": [
    "## 💪Step 4"
   ]
  },
  {
   "cell_type": "markdown",
   "id": "b85b1196",
   "metadata": {},
   "source": [
    "### Congratulations!👏You now have a publicly publishable trash dataset. Run the code below and upload your dataset in the page it pops up then it can be shared with everyone!"
   ]
  },
  {
   "cell_type": "code",
   "execution_count": null,
   "id": "742669fb",
   "metadata": {},
   "outputs": [],
   "source": [
    "import webbrowser\n",
    "webbrowser.open('https://docs.google.com/forms/d/e/1FAIpQLSfKPmq1xBSaBvuETQobNXH_OZGw7OOpKjOfAL-j3UahIgkMuw/viewform')"
   ]
  }
 ],
 "metadata": {
  "kernelspec": {
   "display_name": "Python 3 (ipykernel)",
   "language": "python",
   "name": "python3"
  },
  "language_info": {
   "codemirror_mode": {
    "name": "ipython",
    "version": 3
   },
   "file_extension": ".py",
   "mimetype": "text/x-python",
   "name": "python",
   "nbconvert_exporter": "python",
   "pygments_lexer": "ipython3",
   "version": "3.9.7"
  }
 },
 "nbformat": 4,
 "nbformat_minor": 5
}
